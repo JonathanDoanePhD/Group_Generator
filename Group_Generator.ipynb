{
 "cells": [
  {
   "cell_type": "code",
   "execution_count": 1,
   "id": "c1a7e7ba-8fbe-439e-bcc0-b0412ef86a60",
   "metadata": {},
   "outputs": [
    {
     "name": "stdout",
     "output_type": "stream",
     "text": [
      "\n",
      "\n",
      "    0. To begin, upload your CSV into your Python/Jupyter workspace.\n",
      "       If you have not done so already, please follow the instructions:\n",
      "       Stop the kernel > upload your CSV > restart the kernel.\n",
      "       (At AI4ALL, we use the COE_Responses sheet from our school's roster.)\n",
      "\n",
      "\n",
      "    1. Type in the name of your CSV (mine is named External_Roster-FA22-COE_Responses.csv).\n"
     ]
    },
    {
     "name": "stdin",
     "output_type": "stream",
     "text": [
      "\n",
      "YOUR RESPONSE: adminn\n"
     ]
    },
    {
     "name": "stdout",
     "output_type": "stream",
     "text": [
      "\n",
      "\n",
      "    2. True or False:  You work for AI4ALL (as a Discover AI Instructor).\n",
      "\n",
      "       It has been determined that you work for AI4ALL!\n",
      "       As such, this program will autofill the remaining variables for you.\n",
      "       True or False:  You want to continue with this autofill.\n",
      "       It has been determined that you want to use autofill!\n",
      "\n",
      "\n",
      "\n",
      "*************************************************************************************************************************************************\n",
      "\n",
      "\n",
      "\n",
      "You have 55 students; we formed 9 groups of sizes [7, 6, 6, 6, 6, 6, 6, 6, 6] as follows:\n",
      "\n",
      "Group 1:  7  ['First_A Last_A', 'First_J Last_J', 'First_S Last_S', 'First_X Last_X', 'First_AK Last_AK', 'First_AT Last_AT', 'First_BC Last_BC']\n",
      "Group 2:  6  ['First_B Last_B', 'First_K Last_K', 'First_AC Last_AC', 'First_W Last_W', 'First_AP Last_AP', 'First_AU Last_AU']\n",
      "Group 3:  6  ['First_C Last_C', 'First_L Last_L', 'First_AG Last_AG', 'First_V Last_V', 'First_AN Last_AN', 'First_AV Last_AV']\n",
      "Group 4:  6  ['First_D Last_D', 'First_O Last_O', 'First_AF Last_AF', 'First_U Last_U', 'First_AO Last_AO', 'First_AW Last_AW']\n",
      "Group 5:  6  ['First_E Last_E', 'First_M Last_M', 'First_AE Last_AE', 'First_T Last_T', 'First_AL Last_AL', 'First_AX Last_AX']\n",
      "Group 6:  6  ['First_F Last_F', 'First_N Last_N', 'First_AD Last_AD', 'First_Z Last_Z', 'First_AM Last_AM', 'First_AY Last_AY']\n",
      "Group 7:  6  ['First_G Last_G', 'First_P Last_P', 'First_AA Last_AA', 'First_AH Last_AH', 'First_AQ Last_AQ', 'First_AZ Last_AZ']\n",
      "Group 8:  6  ['First_H Last_H', 'First_Q Last_Q', 'First_AB Last_AB', 'First_AI Last_AI', 'First_AR Last_AR', 'First_BA Last_BA']\n",
      "Group 9:  6  ['First_I Last_I', 'First_R Last_R', 'First_Y Last_Y', 'First_AJ Last_AJ', 'First_AS Last_AS', 'First_BB Last_BB']\n",
      "\n",
      "\n",
      "\n"
     ]
    }
   ],
   "source": [
    "from ipynb.fs.full.BLACK_BOX import *"
   ]
  }
 ],
 "metadata": {
  "kernelspec": {
   "display_name": "Python 3 (ipykernel)",
   "language": "python",
   "name": "python3"
  },
  "language_info": {
   "codemirror_mode": {
    "name": "ipython",
    "version": 3
   },
   "file_extension": ".py",
   "mimetype": "text/x-python",
   "name": "python",
   "nbconvert_exporter": "python",
   "pygments_lexer": "ipython3",
   "version": "3.10.1"
  }
 },
 "nbformat": 4,
 "nbformat_minor": 5
}
