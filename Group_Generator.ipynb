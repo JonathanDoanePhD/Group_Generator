{
 "cells": [
  {
   "cell_type": "code",
   "execution_count": null,
   "id": "c1a7e7ba-8fbe-439e-bcc0-b0412ef86a60",
   "metadata": {},
   "outputs": [
    {
     "name": "stdout",
     "output_type": "stream",
     "text": [
      "\n",
      "\n",
      "    0. To begin, upload your CSV into your Python/Jupyter workspace.\n",
      "       If you have not done so already, please follow the instructions:\n",
      "       Stop the kernel > upload your CSV > restart the kernel.\n",
      "       (At AI4ALL, we use the COE_Responses sheet from our school's roster.)\n",
      "\n",
      "\n",
      "    1. Type in the name of your CSV (mine is named External_Roster-FA22-COE_Responses.csv).\n"
     ]
    },
    {
     "name": "stdin",
     "output_type": "stream",
     "text": [
      "\n",
      "YOUR RESPONSE: l\n"
     ]
    },
    {
     "name": "stdout",
     "output_type": "stream",
     "text": [
      "\n",
      "\n",
      "    2. True or False:  You work for AI4ALL (as a Discover AI Instructor).\n",
      "\n"
     ]
    },
    {
     "name": "stdin",
     "output_type": "stream",
     "text": [
      "\n",
      "YOUR RESPONSE: l\n"
     ]
    },
    {
     "name": "stdout",
     "output_type": "stream",
     "text": [
      "       It has been determined that you do not work for AI4ALL.\n",
      "\n",
      "\n",
      "    3. Type in the number of column names you will use to identify your students, followed by the column name(s); do this one at a time, hitting Enter/Return each time.\n",
      "       (At AI4ALL, we use: 2, First Name, Last Name.)\n"
     ]
    },
    {
     "name": "stdin",
     "output_type": "stream",
     "text": [
      "\n",
      "YOUR RESPONSE: l\n"
     ]
    },
    {
     "name": "stdout",
     "output_type": "stream",
     "text": [
      "ERROR: Your entry must be an integer; please try again.\n"
     ]
    },
    {
     "name": "stdin",
     "output_type": "stream",
     "text": [
      "\n",
      "YOUR RESPONSE: l\n"
     ]
    },
    {
     "name": "stdout",
     "output_type": "stream",
     "text": [
      "ERROR: Your entry must be an integer; please try again.\n"
     ]
    },
    {
     "name": "stdin",
     "output_type": "stream",
     "text": [
      "\n",
      "YOUR RESPONSE: l\n"
     ]
    },
    {
     "name": "stdout",
     "output_type": "stream",
     "text": [
      "ERROR: Your entry must be an integer; please try again.\n"
     ]
    },
    {
     "name": "stdin",
     "output_type": "stream",
     "text": [
      "\n",
      "YOUR RESPONSE: l\n"
     ]
    },
    {
     "name": "stdout",
     "output_type": "stream",
     "text": [
      "ERROR: Your entry must be an integer; please try again.\n"
     ]
    },
    {
     "name": "stdin",
     "output_type": "stream",
     "text": [
      "\n",
      "YOUR RESPONSE: l\n"
     ]
    },
    {
     "name": "stdout",
     "output_type": "stream",
     "text": [
      "ERROR: Your entry must be an integer; please try again.\n"
     ]
    },
    {
     "name": "stdin",
     "output_type": "stream",
     "text": [
      "\n",
      "YOUR RESPONSE: l\n"
     ]
    },
    {
     "name": "stdout",
     "output_type": "stream",
     "text": [
      "ERROR: Your entry must be an integer; please try again.\n"
     ]
    }
   ],
   "source": [
    "from ipynb.fs.full.BLACK_BOX import *"
   ]
  }
 ],
 "metadata": {
  "kernelspec": {
   "display_name": "Python 3 (ipykernel)",
   "language": "python",
   "name": "python3"
  },
  "language_info": {
   "codemirror_mode": {
    "name": "ipython",
    "version": 3
   },
   "file_extension": ".py",
   "mimetype": "text/x-python",
   "name": "python",
   "nbconvert_exporter": "python",
   "pygments_lexer": "ipython3",
   "version": "3.10.1"
  }
 },
 "nbformat": 4,
 "nbformat_minor": 5
}
