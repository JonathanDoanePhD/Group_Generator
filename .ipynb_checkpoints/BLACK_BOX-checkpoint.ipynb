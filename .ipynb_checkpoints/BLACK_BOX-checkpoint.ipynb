{
 "cells": [
  {
   "cell_type": "markdown",
   "id": "2f573836-c1ac-461a-ac48-bdac1c7b6d95",
   "metadata": {
    "tags": []
   },
   "source": [
    "# Group Generator\n",
    "\n",
    "## Overview\n",
    "\n",
    "#### INPUT:\n",
    "\n",
    "CSV of students with their available meeting times and preferred partners\n",
    "<br>(and accompanying column names, keywords, and similar information).\n",
    "\n",
    "#### BLACK BOX:\n",
    "\n",
    "(See Methodology, below.)\n",
    "\n",
    "#### OUTPUT:\n",
    "\n",
    "Optimally sized groups which share a common meeting time and includes preferred partners whenever possible.\n",
    "\n",
    "\n",
    "### Methodology\n",
    "\n",
    "We use an adapted version of the following:\n",
    "\n",
    "https://stackoverflow.com/questions/67391919/algorithm-to-group-people-together-based-on-their-available-timeslots-calendar\n",
    "\n",
    "\n",
    "Based on the number of students you have and the maximum number of groups you would like formed, calculate the optimal group sizes.\n",
    "\n",
    "For each student, record which time slots are marked available and which partners are preferred.\n",
    "<br>Sort students from the least number of availabilities to the most.\n",
    "\n",
    "For each time slot, record how many students are available at that time.\n",
    "<br>Sort time slots from the least number of availabilities to the most.\n",
    "\n",
    "We connect students with their preferred partners; considering connections as transitive, we form connected components.\n",
    "<br>(Try to keep the connected components as large as possible, but especially try to keep the double-connections where two students both request to work with the other.)\n",
    "\n",
    "Execute the following pseudocode:\n",
    "\n",
    "`                                                                                                                                               `\n",
    ">\n",
    "while not an impossible grouping:\n",
    "<br>>>\n",
    "remove 0, or 1, or 2, or... weak/single connections in order to make student groups more flexible\n",
    "<br>>>\n",
    "if all weak/single connections are removed:\n",
    "<br>>>>\n",
    "remove 0, or 1, or 2, or... strong/double connections in order to make student groups more flexible\n",
    "<br>>>\n",
    "group the (smaller) connected components into Group 1, Group 2, ...\n",
    "<br>>>\n",
    "fill Group 1, Group 2, ... with students who have few available times first, then with students who have many available times, as needed\n",
    "<br>(any student who cannot fit into an already established group goes on to establish a new group)\n",
    ">>\n",
    "if the number of groups exceeds the maximum number acceptable, or if a group size is too small/large:\n",
    "<br>>>>\n",
    "this grouping is considered impossible and we will retry by removing even more connections than on this try\n",
    "<br>>\n",
    "if that fails:\n",
    "<br>>>\n",
    "randomly shuffle students/time slot and try the while loop again\n",
    "<br>>\n",
    "if every attempt has still failed:\n",
    "<br>>>\n",
    "accept the best recorded attempt\n",
    "\n",
    "`                                                                                                                                               `\n",
    "\n"
   ]
  },
  {
   "cell_type": "markdown",
   "id": "e0ed0cb0-40f1-45b6-bd47-806a6c4a4923",
   "metadata": {
    "tags": []
   },
   "source": [
    "######\n",
    "\n",
    "***\n",
    "\n",
    "## INPUT:"
   ]
  },
  {
   "cell_type": "code",
   "execution_count": 1,
   "id": "15f6c299-e51c-4491-b033-2ed4b6ac3e99",
   "metadata": {
    "tags": []
   },
   "outputs": [
    {
     "name": "stdout",
     "output_type": "stream",
     "text": [
      "\n",
      "\n",
      "    0. To begin, upload your CSV into your Python/Jupyter workspace.\n",
      "       If you have not done so already, please follow the instructions:\n",
      "       Stop the kernel > upload your CSV > restart the kernel.\n",
      "       (At AI4ALL, we use the COE Responses sheet from our school's roster.)\n",
      "\n",
      "\n",
      "    1. Type in the name of your CSV (mine is named SAMPLE_Roster.csv).\n"
     ]
    },
    {
     "name": "stdin",
     "output_type": "stream",
     "text": [
      "\n",
      "YOUR RESPONSE: SAMPLE_Roster.csv\n"
     ]
    },
    {
     "name": "stdout",
     "output_type": "stream",
     "text": [
      "\n",
      "\n",
      "    2. True or False:  You work for AI4ALL (as a Discover AI Instructor).\n",
      "\n"
     ]
    },
    {
     "name": "stdin",
     "output_type": "stream",
     "text": [
      "\n",
      "YOUR RESPONSE: True\n"
     ]
    },
    {
     "name": "stdout",
     "output_type": "stream",
     "text": [
      "       It has been determined that you work for AI4ALL!\n",
      "       As such, this program will autofill the remaining variables for you.\n",
      "       True or False:  You want to continue with this autofill.\n"
     ]
    },
    {
     "name": "stdin",
     "output_type": "stream",
     "text": [
      "\n",
      "YOUR RESPONSE: No\n"
     ]
    },
    {
     "name": "stdout",
     "output_type": "stream",
     "text": [
      "       It has been determined that you do not want to use autofill.\n",
      "\n",
      "\n",
      "    3. Type in the number of column names you will use to identify your students, followed by the column name(s); do this one at a time, hitting Enter/Return each time.\n",
      "       (At AI4ALL, we use: 2, First Name, Last Name.)\n"
     ]
    },
    {
     "name": "stdin",
     "output_type": "stream",
     "text": [
      "\n",
      "YOUR RESPONSE: 2\n"
     ]
    },
    {
     "name": "stdout",
     "output_type": "stream",
     "text": [
      "\n",
      "       Input accepted!\n"
     ]
    },
    {
     "name": "stdin",
     "output_type": "stream",
     "text": [
      "\n",
      "YOUR RESPONSE: First Name\n",
      "\n",
      "YOUR RESPONSE: Last Name\n"
     ]
    },
    {
     "name": "stdout",
     "output_type": "stream",
     "text": [
      "\n",
      "\n",
      "    4. Type in the name of the column which indicates the partner(s) students wish to work with (if no such column exists, type False).\n",
      "       (At AI4ALL, we use: Are there any particular students with whom you would like to be in the same group? If so, indicate their names below. Please note that we cannot guarantee you will be in the same group as them, but we will do our best to honor your request.)\n"
     ]
    },
    {
     "name": "stdin",
     "output_type": "stream",
     "text": [
      "\n",
      "YOUR RESPONSE: Are there any particular students with whom you would like to be in the same group? If so, indicate their names below. Please note that we cannot guarantee you will be in the same group as them, but we will do our best to honor your request.\n"
     ]
    },
    {
     "name": "stdout",
     "output_type": "stream",
     "text": [
      "\n",
      "\n",
      "    5. Type in the number of weekdays students may choose to meet, followed by the weekday(s).\n",
      "       (At AI4ALL, we use: 7, Monday, Tuesday, Wednesday, Thursday, Friday, Saturday, Sunday.)\n"
     ]
    },
    {
     "name": "stdin",
     "output_type": "stream",
     "text": [
      "\n",
      "YOUR RESPONSE: word-wont-work\n"
     ]
    },
    {
     "name": "stdout",
     "output_type": "stream",
     "text": [
      "ERROR: Your entry must be an integer; please try again.\n"
     ]
    },
    {
     "name": "stdin",
     "output_type": "stream",
     "text": [
      "\n",
      "YOUR RESPONSE: ahh\n"
     ]
    },
    {
     "name": "stdout",
     "output_type": "stream",
     "text": [
      "ERROR: Your entry must be an integer; please try again.\n"
     ]
    },
    {
     "name": "stdin",
     "output_type": "stream",
     "text": [
      "\n",
      "YOUR RESPONSE: 7\n"
     ]
    },
    {
     "name": "stdout",
     "output_type": "stream",
     "text": [
      "\n",
      "       Input accepted!\n"
     ]
    },
    {
     "name": "stdin",
     "output_type": "stream",
     "text": [
      "\n",
      "YOUR RESPONSE: Monday\n",
      "\n",
      "YOUR RESPONSE: Tuesday\n",
      "\n",
      "YOUR RESPONSE: Wednesday\n",
      "\n",
      "YOUR RESPONSE: Thursday\n",
      "\n",
      "YOUR RESPONSE: Friday\n",
      "\n",
      "YOUR RESPONSE: Saturday\n",
      "\n",
      "YOUR RESPONSE: Sunday\n"
     ]
    },
    {
     "name": "stdout",
     "output_type": "stream",
     "text": [
      "\n",
      "\n",
      "    6. Type in the number of time slots students may choose to meet, followed by the time slot(s).\n",
      "       (At AI4ALL, we use: 3, Morning, Afternoon, Evening.)\n"
     ]
    },
    {
     "name": "stdin",
     "output_type": "stream",
     "text": [
      "\n",
      "YOUR RESPONSE: word\n"
     ]
    },
    {
     "name": "stdout",
     "output_type": "stream",
     "text": [
      "ERROR: Your entry must be an integer; please try again.\n"
     ]
    },
    {
     "name": "stdin",
     "output_type": "stream",
     "text": [
      "\n",
      "YOUR RESPONSE: ahh\n"
     ]
    },
    {
     "name": "stdout",
     "output_type": "stream",
     "text": [
      "ERROR: Your entry must be an integer; please try again.\n"
     ]
    },
    {
     "name": "stdin",
     "output_type": "stream",
     "text": [
      "\n",
      "YOUR RESPONSE: 3\n"
     ]
    },
    {
     "name": "stdout",
     "output_type": "stream",
     "text": [
      "\n",
      "       Input accepted!\n"
     ]
    },
    {
     "name": "stdin",
     "output_type": "stream",
     "text": [
      "\n",
      "YOUR RESPONSE: Morning\n",
      "\n",
      "YOUR RESPONSE: Afternoon\n",
      "\n",
      "YOUR RESPONSE: Evening\n"
     ]
    },
    {
     "name": "stdout",
     "output_type": "stream",
     "text": [
      "\n",
      "\n",
      "    7. Type in the maximum number of groups you would like formed.\n",
      "       (At AI4ALL, we use: 9.)\n"
     ]
    },
    {
     "name": "stdin",
     "output_type": "stream",
     "text": [
      "\n",
      "YOUR RESPONSE: word\n"
     ]
    },
    {
     "name": "stdout",
     "output_type": "stream",
     "text": [
      "ERROR: Your entry must be an integer; please try again.\n"
     ]
    },
    {
     "name": "stdin",
     "output_type": "stream",
     "text": [
      "\n",
      "YOUR RESPONSE: ahh\n"
     ]
    },
    {
     "name": "stdout",
     "output_type": "stream",
     "text": [
      "ERROR: Your entry must be an integer; please try again.\n"
     ]
    },
    {
     "name": "stdin",
     "output_type": "stream",
     "text": [
      "\n",
      "YOUR RESPONSE: 9\n"
     ]
    },
    {
     "name": "stdout",
     "output_type": "stream",
     "text": [
      "\n",
      "       Input accepted!\n"
     ]
    }
   ],
   "source": [
    "def Item(in_int, in_str):\n",
    "    return print('\\n'*2 + ' '*4 + str(in_int) + '. ' + in_str)\n",
    "\n",
    "def Subitem(in_str):\n",
    "    return print(' '*7 + in_str)\n",
    "\n",
    "def Input():\n",
    "    return input('\\n' + 'YOUR RESPONSE:')\n",
    "\n",
    "true = ['t', 'r', 'u', 'y']\n",
    "def Test_Truth(in_str):\n",
    "    return True in [x in in_str for x in true]\n",
    "\n",
    "def Get_Input_Number():\n",
    "    num = Input()\n",
    "    is_num = False\n",
    "    it = 0\n",
    "    while is_num == False and it < 100:\n",
    "        try:\n",
    "            num = int(num)\n",
    "            is_num = True\n",
    "            print()\n",
    "            Subitem('Input accepted!'.format(num))\n",
    "        except:\n",
    "            print('ERROR: Your entry must be an integer; please try again.')\n",
    "            num = Input()\n",
    "    return num\n",
    "\n",
    "def Get_Input_List():\n",
    "    num = Get_Input_Number()\n",
    "    lst = []\n",
    "    for i in range(num):\n",
    "        lst.append(Input())\n",
    "    return lst\n",
    "\n",
    "def Get_Manual_Inputs():\n",
    "    Item(3, 'Type in the number of column names you will use to identify your students, followed by the column name(s); do this one at a time, hitting Enter/Return each time.')\n",
    "    Subitem(\"(At AI4ALL, we use: 2, First Name, Last Name.)\")\n",
    "    student_identifiers = Get_Input_List()\n",
    "    #\n",
    "    Item(4, 'Type in the name of the column which indicates the partner(s) students wish to work with (if no such column exists, type False).')\n",
    "    Subitem('(At AI4ALL, we use: Are there any particular students with whom you would like to be in the same group? If so, indicate their names below. Please note that we cannot guarantee you will be in the same group as them, but we will do our best to honor your request.)')\n",
    "    student_preferred_partners = Input()\n",
    "    #\n",
    "    Item(5, 'Type in the number of weekdays students may choose to meet, followed by the weekday(s).')\n",
    "    Subitem(\"(At AI4ALL, we use: 7, Monday, Tuesday, Wednesday, Thursday, Friday, Saturday, Sunday.)\")\n",
    "    available_days = Get_Input_List()\n",
    "    #\n",
    "    Item(6, 'Type in the number of time slots students may choose to meet, followed by the time slot(s).')\n",
    "    Subitem(\"(At AI4ALL, we use: 3, Morning, Afternoon, Evening.)\")\n",
    "    available_times = Get_Input_List()\n",
    "    #\n",
    "    Item(7, 'Type in the maximum number of groups you would like formed.')\n",
    "    Subitem('(At AI4ALL, we use: 9.)')\n",
    "    max_num_groups = Get_Input_Number()\n",
    "    #\n",
    "    return [student_identifiers, student_preferred_partners, available_days, available_times, max_num_groups]\n",
    "\n",
    "\n",
    "\n",
    "Item(0, 'To begin, upload your CSV into your Python/Jupyter workspace.')\n",
    "Subitem('If you have not done so already, please follow the instructions:')\n",
    "Subitem('Stop the kernel > upload your CSV > restart the kernel.')\n",
    "Subitem(\"(At AI4ALL, we use the COE Responses sheet from our school's roster.)\")\n",
    "\n",
    "Item(1, 'Type in the name of your CSV (mine is named SAMPLE_Roster.csv).')\n",
    "CSV_directory = Input()\n",
    "admin = CSV_directory\n",
    "if admin == 'admin':\n",
    "    want_to_test = True\n",
    "    want_to_plot = True\n",
    "    want_no_warn = True\n",
    "    CSV_directory = 'SAMPLE_Roster.csv'\n",
    "    AI4ALL = True\n",
    "    autofill = True\n",
    "elif admin == 'adminn':\n",
    "    want_to_test = False\n",
    "    want_to_plot = False\n",
    "    want_no_warn = True\n",
    "    CSV_directory = 'SAMPLE_Roster.csv'\n",
    "    AI4ALL = True\n",
    "    autofill = True\n",
    "else:\n",
    "    want_to_test = False\n",
    "    want_to_plot = False\n",
    "    want_no_warn = False\n",
    "Item(2, 'True or False:  You work for AI4ALL (as a Discover AI Instructor).')\n",
    "print()\n",
    "try:\n",
    "    AI4ALL\n",
    "except:\n",
    "    AI4ALL = Test_Truth(Input())\n",
    "if AI4ALL:\n",
    "    Subitem('It has been determined that you work for AI4ALL!')\n",
    "    Subitem('As such, this program will autofill the remaining variables for you.')\n",
    "    Subitem('True or False:  You want to continue with this autofill.')\n",
    "    try:\n",
    "        autofill\n",
    "    except:\n",
    "        autofill = Test_Truth(Input())\n",
    "    if autofill:\n",
    "        Subitem('It has been determined that you want to use autofill!')\n",
    "        student_identifiers = ['First Name', 'Last Name']\n",
    "        student_preferred_partners = 'Are there any particular students with whom you would like to be in the same group? If so, indicate their names below. Please note that we cannot guarantee you will be in the same group as them, but we will do our best to honor your request.'\n",
    "        available_days = ['Monday', 'Tuesday', 'Wednesday', 'Thursday', 'Friday', 'Saturday', 'Sunday']\n",
    "        available_times = ['Morning', 'Afternoon', 'Evening']\n",
    "        max_num_groups = 9\n",
    "    else:\n",
    "        Subitem('It has been determined that you do not want to use autofill.')\n",
    "        student_identifiers, student_preferred_partners, available_days, available_times, max_num_groups = Get_Manual_Inputs()\n",
    "else:\n",
    "    Subitem('It has been determined that you do not work for AI4ALL.')\n",
    "    student_identifiers, student_preferred_partners, available_days, available_times, max_num_groups = Get_Manual_Inputs()"
   ]
  },
  {
   "cell_type": "markdown",
   "id": "33042c01-ad19-4acf-8b46-aea301ae103f",
   "metadata": {},
   "source": [
    "######\n",
    "\n",
    "***\n",
    "\n",
    "## BLACK BOX:"
   ]
  },
  {
   "cell_type": "markdown",
   "id": "f2602ea6-719f-45a1-b5f7-1753771e62a2",
   "metadata": {},
   "source": [
    "### Imports"
   ]
  },
  {
   "cell_type": "markdown",
   "id": "555df157-466c-42c6-b074-df27722c99e9",
   "metadata": {},
   "source": [
    "#### Required"
   ]
  },
  {
   "cell_type": "code",
   "execution_count": 2,
   "id": "2f357950-1df4-4dc1-8d38-084c885083ab",
   "metadata": {},
   "outputs": [],
   "source": [
    "import pandas as pd # work with DataFrames\n",
    "import numpy as np # return unique elements of a list\n",
    "import string # format student identifier\n",
    "import networkx as nx # easily connect students with their preferred partners\n",
    "import itertools as itr # create multiple backup group assignments"
   ]
  },
  {
   "cell_type": "markdown",
   "id": "a866ade1-be5a-4b6a-9e10-9fda57d4b911",
   "metadata": {},
   "source": [
    "#### Optional"
   ]
  },
  {
   "cell_type": "code",
   "execution_count": 3,
   "id": "2275584d-7063-4ea1-9247-da9b13b7e6ba",
   "metadata": {},
   "outputs": [],
   "source": [
    "want_to_test=True\n",
    "want_to_plot=True\n",
    "want_no_warn=True\n",
    "\n",
    "if want_to_test:\n",
    "    import random as rand\n",
    "\n",
    "if want_to_plot:\n",
    "    import matplotlib.pyplot as plt \n",
    "    import pylab as plt\n",
    "\n",
    "if want_no_warn:\n",
    "    import warnings\n",
    "    warnings.simplefilter('error', UserWarning)\n",
    "    warnings.simplefilter(action='ignore', category=FutureWarning)\n",
    "    warnings.filterwarnings(action=\"ignore\", category=DeprecationWarning)"
   ]
  },
  {
   "cell_type": "markdown",
   "id": "84889b8e-860f-4055-ba5c-78e7cc2ba116",
   "metadata": {},
   "source": [
    "### Functions"
   ]
  },
  {
   "cell_type": "markdown",
   "id": "e8a14ef2-fe22-4508-a246-bd38dded0ca4",
   "metadata": {},
   "source": [
    "#### Variables"
   ]
  },
  {
   "cell_type": "code",
   "execution_count": 4,
   "id": "f4861702-2cc6-4ce8-ad75-0f867847cb9f",
   "metadata": {},
   "outputs": [],
   "source": [
    "timeslots = [' '.join(x) for x in itr.product(available_days, available_times)]\n",
    "\n",
    "ind_p = 1 # 'Partners'\n",
    "ind_t = 2 # First Time slot\n",
    "ind_ts = -3 # 'Time slots'\n",
    "\n",
    "Mng = max_num_groups"
   ]
  },
  {
   "cell_type": "markdown",
   "id": "0b5667d4-b506-467d-bd42-e9d45a9f85f4",
   "metadata": {
    "tags": []
   },
   "source": [
    "#### Standard"
   ]
  },
  {
   "cell_type": "code",
   "execution_count": 5,
   "id": "1b930c35-4f96-4af2-8077-d7060953b2c6",
   "metadata": {},
   "outputs": [],
   "source": [
    "def Unique(in_list=[]):\n",
    "    return list(np.unique(np.array(in_list)))\n",
    "\n",
    "def Sort(in_list=[]):\n",
    "    in_list.sort()\n",
    "    return in_list"
   ]
  },
  {
   "cell_type": "markdown",
   "id": "3206efc1-3dc0-4ecd-a07a-9827fa4b2d75",
   "metadata": {},
   "source": [
    "#### Preparing my CSV"
   ]
  },
  {
   "cell_type": "code",
   "execution_count": 6,
   "id": "2af51958-c2cc-4aec-aa5d-2ee0d1ddb48a",
   "metadata": {},
   "outputs": [],
   "source": [
    "# Given user-input preferred partners, match them to formatted students\n",
    "def Format_Partners(in_df):\n",
    "    df = in_df.copy()\n",
    "    for c, to_scan in enumerate(df['Partners']):\n",
    "        to_scan = str(to_scan).lower() # user-input string, may contain errors\n",
    "        scan_results = ''\n",
    "        for student in df['Student']:\n",
    "            student = [x.lower() for x in student.split(' ')]\n",
    "            student[-1] = ' ' + student[-1]\n",
    "            if True in [x in to_scan for x in student]:\n",
    "                scan_results = scan_results + ', '*min(1, len(scan_results)) + string.capwords(' '.join(student))\n",
    "            else:\n",
    "                pass\n",
    "        df.iloc[c, ind_p] = ', '.join(Sort(Unique(scan_results.split(', '))))\n",
    "    return df\n",
    "\n",
    "# Separate Day-[Morning, Afternoon, Evening] into [Day-Morning, Day-Afternoon, Day-Evening]\n",
    "def Format_Timeslots(in_DF, in_df):\n",
    "    DF = in_DF.copy()\n",
    "    df = in_df.copy()\n",
    "    for t in timeslots:\n",
    "        s = t.split(' ')\n",
    "        df[t] = DF[s[0]].str.contains(s[1])\n",
    "        df = df.fillna(0)\n",
    "        df[t] = [int(j) for j in df[t]]\n",
    "    return df\n",
    "\n",
    "# Reorder time slot based on scarcity of students able to meet at that time\n",
    "def Reorder_Timeslots_df(in_ts_df, in_random=False):\n",
    "    timeslots_df = in_ts_df\n",
    "    timeslots_df.loc['Total']= timeslots_df.sum()\n",
    "    if in_random == False:\n",
    "        timeslots_df = timeslots_df.sort_values('Total', axis=1)\n",
    "    elif in_random:\n",
    "        timeslots_df = timeslots_df.sort_values('Total', axis=1, key=lambda row: row.map(lambda x: rand.random()))\n",
    "    else:\n",
    "        timeslots_df = timeslots_df.sort_values('Total', axis=1, key=lambda row: row.map(lambda x: -x))\n",
    "    return timeslots_df"
   ]
  },
  {
   "cell_type": "markdown",
   "id": "3a6f503e-346e-411f-917e-3b426f29be0f",
   "metadata": {},
   "source": [
    "#### Preparing to form new DataFrame"
   ]
  },
  {
   "cell_type": "code",
   "execution_count": 7,
   "id": "87ea9f83-673f-4229-a0e9-3c0fb2c14513",
   "metadata": {},
   "outputs": [],
   "source": [
    "# For a student, record which time slots are marked as available\n",
    "def Get_Student_Timeslots(in_df, in_sid=0):\n",
    "    spread_timeslots = in_df.iloc[in_sid, ind_t:].tolist() # list of 0s and 1s\n",
    "    concise_timeslots = [str(i) for i in range(len(timeslots)) if spread_timeslots[i] == 1] # list of strings of the indices of working timeslots\n",
    "    return ', '.join(concise_timeslots) # string of the indices of working timeslots, separated by commas\n",
    "\n",
    "def Timeslots_Col(in_df):\n",
    "    return [Get_Student_Timeslots(in_df, sid) for sid in range(in_df.shape[0])]"
   ]
  },
  {
   "cell_type": "markdown",
   "id": "7ca8be00-830d-40a6-bbb3-433188206f14",
   "metadata": {},
   "source": [
    "#### Form new DataFrame"
   ]
  },
  {
   "cell_type": "code",
   "execution_count": 8,
   "id": "4824e948-96bf-4335-8659-38b16ad37924",
   "metadata": {},
   "outputs": [],
   "source": [
    "def DF(in_directory=CSV_directory, in_random=False):\n",
    "    DF = pd.read_csv(in_directory).dropna(axis=0, subset=student_identifiers).astype(str) # user-input CSV\n",
    "    #\n",
    "    df = pd.DataFrame() # we will make a clean DataFrame with only the information we need\n",
    "    df['Student'] = DF[student_identifiers].apply(' '.join, axis=1) # combines First Last names\n",
    "    try:\n",
    "        df['Partners'] = DF.loc[:, student_preferred_partners] # adds student-input partner preferences (assuming 'student_preferred_partners' was entered correctly)\n",
    "    except:\n",
    "        df['Partners'] = ['' for i in range(DF.shape[0])]\n",
    "    #\n",
    "    df = Format_Partners(df) # format student-input partner preferences\n",
    "    df = Format_Timeslots(DF, df) # adds a column for each time slot\n",
    "    timeslots_df = df.iloc[:, ind_t:] # takes the timeslot columns...\n",
    "    timeslots_df = Reorder_Timeslots_df(timeslots_df, in_random) # ... and reorders them\n",
    "    df = df[list(df.columns[: ind_t]) + list(timeslots_df.columns)] # puts the reordered version back into the DataFrame 'df'\n",
    "    #\n",
    "    df['Time slots'] = Timeslots_Col(df) # records all available time slots for the student, taking into account the reordering\n",
    "    df['Flexibility'] = df.iloc[:, ind_t:].sum(axis=1)\n",
    "    df = df.sort_values('Flexibility').reset_index(drop=True) # less flexible students will be grouped ASAP\n",
    "    df['Group'] = [0 for i in range(df.shape[0])] # this will be updated\n",
    "    return [DF, df, timeslots_df]\n",
    "\n",
    "timeslots = list(DF()[2].columns) # updates the timeslot reordering"
   ]
  },
  {
   "cell_type": "markdown",
   "id": "96eed8ec-3226-4ff7-ab0e-e2366e0177e0",
   "metadata": {},
   "source": [
    "#### Students"
   ]
  },
  {
   "cell_type": "code",
   "execution_count": 9,
   "id": "4a7c0a9e-874a-46b3-acab-29f6b6b75d2a",
   "metadata": {},
   "outputs": [],
   "source": [
    "def Students(in_df=DF()[1]):\n",
    "    return in_df.loc[:, 'Student'].tolist() # turns the 'Student' column of 'df' into a list; this column was reordered, earlier.\n",
    "\n",
    "def Num_Students(in_students=Students()):\n",
    "    return len(in_students)\n",
    "\n",
    "def SID(in_student, in_students=Students()):\n",
    "    return in_students.index(in_student)"
   ]
  },
  {
   "cell_type": "markdown",
   "id": "0b109a87-788f-4cf5-8ce5-3f3d89759248",
   "metadata": {},
   "source": [
    "#### Calculate optimal group sizes (5-6, with special allowances of 4 or 7)"
   ]
  },
  {
   "cell_type": "code",
   "execution_count": 10,
   "id": "3a4c7ca2-9aa5-4c2d-959d-bd88e3933f3f",
   "metadata": {},
   "outputs": [],
   "source": [
    "def Group_Sizes(in_num_students=Num_Students()):\n",
    "    num_students = in_num_students\n",
    "    mgs = 5 # min group size\n",
    "    png = num_students//mgs # possible number of groups\n",
    "    group_sizes = [mgs for i in range(png)]\n",
    "    it = 0\n",
    "    while png > Mng and it < png:\n",
    "        png -= 1\n",
    "        it += 1\n",
    "        group_sizes = [x + 1 for x in group_sizes[:-1]]\n",
    "    s = sum(group_sizes)\n",
    "    it = 0\n",
    "    while s < num_students and it < png:\n",
    "        group_sizes[it] = group_sizes[it] + 1\n",
    "        it += 1\n",
    "        s = sum(group_sizes)\n",
    "    it = 0\n",
    "    while s > num_students and it < png:\n",
    "        group_sizes[png - 1 - it] = group_sizes[png - 1 - it] - 1\n",
    "        it += 1\n",
    "        s = sum(group_sizes)\n",
    "    it = 0\n",
    "    if s < num_students:\n",
    "        group_sizes = [mgs - 1 for i in range(png + 1)]\n",
    "        while s < num_students and it < png:\n",
    "            group_sizes[it] = group_sizes[it] + 1\n",
    "            it += 1\n",
    "            s = sum(group_sizes)\n",
    "    return group_sizes\n",
    "\n",
    "def Num_Groups(in_groups=Group_Sizes()):\n",
    "    return len(in_groups)"
   ]
  },
  {
   "cell_type": "markdown",
   "id": "8dacf30f-271f-425c-9c4d-f07503da3fb2",
   "metadata": {},
   "source": [
    "#### Connect students with their preferred partners\n",
    "\n",
    "http://courses.ics.hawaii.edu/ReviewICS241/morea/graphs/Graphs4-QA.pdf"
   ]
  },
  {
   "cell_type": "code",
   "execution_count": 11,
   "id": "2efd4ec4-f216-4016-98f9-2ef1c63f04f3",
   "metadata": {},
   "outputs": [
    {
     "data": {
      "image/png": "[encoded data removed]",
      "text/plain": [
       "<Figure size 1152x648 with 1 Axes>"
      ]
     },
     "metadata": {},
     "output_type": "display_data"
    },
    {
     "name": "stdout",
     "output_type": "stream",
     "text": [
      "\n",
      "\n",
      "\n",
      "Connected components \"cc\": [{'Firstr Lastr', 'Firstuu Lastuu', 'Firstcc Lastcc', 'Firstpp Lastpp', 'Firstf Lastf', 'Firste Laste', 'Firstz Lastz', 'Firstk Lastk', 'Firsta Lasta', 'Firstmm Lastmm', 'Firstbb Lastbb'}, {'Firstb Lastb', 'Firstd Lastd', 'Firstc Lastc', 'Firstl Lastl'}, {'Firstn Lastn', 'Firstp Lastp', 'Firstu Lastu', 'Firstv Lastv', 'Firstx Lastx', 'Firsty Lasty'}]\n",
      "\n",
      "Strongly connected components \"dd\": []\n",
      "\n",
      "\n",
      "\n"
     ]
    }
   ],
   "source": [
    "def Partners_Graph(in_df=DF()[1], in_cc=False, in_draw=False):\n",
    "    df = in_df.copy()\n",
    "    D = nx.DiGraph()\n",
    "    nodes = Students(df)\n",
    "    STUDENTS = nodes.copy()\n",
    "    D.add_nodes_from(nodes)\n",
    "    D.add_edges_from([x for x in itr.product(nodes, nodes) if df.iloc[SID(x[1], STUDENTS), 0] in df.iloc[SID(x[0], STUDENTS), ind_p]])\n",
    "    #\n",
    "    CC = nx.weakly_connected_components(D) # connected components of undirected graph\n",
    "    if in_cc != False:\n",
    "        cc = in_cc\n",
    "    else:\n",
    "        cc = [x for x in CC if len(x) > 1] # gets rid of isolated vertices/nodes\n",
    "    #\n",
    "    DD = nx.strongly_connected_components(D) #\n",
    "    dd = [x for x in DD if len(x) > 1] # and x not in cc\n",
    "    #\n",
    "    if in_draw:\n",
    "        D = nx.DiGraph()\n",
    "        try:\n",
    "            nodes = list(set.union(*cc))\n",
    "        except:\n",
    "            nodes = []\n",
    "        D.add_nodes_from(nodes)\n",
    "        D.add_edges_from([x for x in itr.product(nodes, nodes) if df.iloc[SID(x[1], STUDENTS), 0] in df.iloc[SID(x[0], STUDENTS), ind_p]])\n",
    "        plt.figure(3,figsize=(16,9)) \n",
    "        nx.draw_networkx(D, pos=nx.circular_layout(D), node_size=10000, node_color='None', arrowsize=10, with_labels=True)\n",
    "        plt.show()\n",
    "    return [CC, cc, DD, dd]\n",
    "\n",
    "if want_to_plot:\n",
    "    PG = Partners_Graph(in_draw=want_to_plot)\n",
    "    cc, dd = PG[1], PG[3]\n",
    "    print('\\n'*2)\n",
    "    print('Connected components \"cc\":', cc)\n",
    "    print()\n",
    "    print('Strongly connected components \"dd\":', dd)\n",
    "    print('\\n'*2)"
   ]
  },
  {
   "cell_type": "markdown",
   "id": "8f896b2a-1d51-4c67-8ce0-43d9ed5b157e",
   "metadata": {},
   "source": [
    "#### Generate Groups"
   ]
  },
  {
   "cell_type": "code",
   "execution_count": 12,
   "id": "ce2aeec3-9abf-4e5d-93bb-360b359b57ae",
   "metadata": {},
   "outputs": [],
   "source": [
    "def Timeslot_Buddies(in_df=DF()[1], in_num_students=Num_Students()): # for each time slot, records who is available then\n",
    "    return [{in_df.iloc[sid, 0] for sid in range(in_num_students) if in_df.iloc[sid, ind_t + i] == 1} for i in range(len(timeslots))]\n",
    "\n",
    "def Timeslot_Partners(in_df=DF()[1], in_source=Partners_Graph()[1]):\n",
    "    df = in_df\n",
    "    num_students = Num_Students(df)\n",
    "    timeslot_buddies = Timeslot_Buddies(df, num_students) # for each time slot, records which partners are available then\n",
    "    return [[x.intersection(timeslot_buddies[i]) for x in in_source] for i in range(len(timeslot_buddies))]"
   ]
  },
  {
   "cell_type": "code",
   "execution_count": 13,
   "id": "f1e8a0f5-3d9b-4655-a9a3-8cd806fbd943",
   "metadata": {},
   "outputs": [],
   "source": [
    "def Try_Group_Partners(in_df=DF()[1], in_source=Partners_Graph()[1]): # This doesn't take partial groups, it tries to make whole components work. It tells us \n",
    "    df = in_df\n",
    "    xx = in_source # these are the partners we want to work\n",
    "    x_timeslot_partners = Timeslot_Partners(df, xx) # these are the actual\n",
    "    out = []\n",
    "    for [x, y] in itr.product(xx, x_timeslot_partners):\n",
    "        try:\n",
    "            y.index(x)\n",
    "            out.append(x)\n",
    "        except:\n",
    "            pass\n",
    "    return Unique(out)\n",
    "\n",
    "def Start_Form_Groups(in_df=DF()[1], in_sources=[Partners_Graph()[1], Partners_Graph()[3]]):\n",
    "    df = in_df\n",
    "    num_students = Num_Students(df)\n",
    "    timeslot_buddies = Timeslot_Buddies(df, num_students)\n",
    "    #\n",
    "    cc, dd = in_sources[0].copy(), in_sources[1].copy()\n",
    "    # \n",
    "    c_best_timeslot_partners = Try_Group_Partners(df, cc) # TRIES TO GET ALL OF cc\n",
    "    for b in c_best_timeslot_partners:\n",
    "        try:\n",
    "            cc.remove(b)\n",
    "        except:\n",
    "            print('Something weird happened with {} not being in {}.'.format(b,cc)) \n",
    "            pass\n",
    "    #\n",
    "    d_best_timeslot_partners = Try_Group_Partners(df, dd) # TRIES TO SAVE dd\n",
    "    for b in d_best_timeslot_partners:\n",
    "        try:\n",
    "            dd.remove(b)\n",
    "        except:\n",
    "            print('Something weird happened with {} not being in {}.'.format(b,dd)) \n",
    "    #\n",
    "    best_timeslot_partners = c_best_timeslot_partners + d_best_timeslot_partners\n",
    "    #\n",
    "    try:\n",
    "        u = set.union(*best_timeslot_partners)\n",
    "    except:\n",
    "        u = set()\n",
    "    remaining = [x.difference(u) for x in cc] # the remaining members with preferred partners indicated\n",
    "    #\n",
    "    # Try to fit at least some remaining partners together\n",
    "    r_timeslot_partners = Timeslot_Partners(df, remaining)\n",
    "    r = len(remaining)\n",
    "    R = range(r)\n",
    "    it = 0\n",
    "    while r > 0 and it < 100:\n",
    "        it += 1\n",
    "        options = [[len(x[i]) for i in R] for x in r_timeslot_partners]\n",
    "        option_slices = [[x[i] for x in options] for i in R]\n",
    "        best_options = [x.index(max(x)) for x in option_slices]\n",
    "        for i in R:\n",
    "            best_timeslot_partners.append(remaining[i].intersection(r_timeslot_partners[best_options[i]][i]))\n",
    "        try:\n",
    "            remaining = Unique([x.difference(set.union(*best_timeslot_partners)) for x in remaining])\n",
    "            remaining.remove(set())\n",
    "        except:\n",
    "            pass\n",
    "        r_timeslot_partners = [[r.intersection(timeslot_buddies[i]) for r in remaining] for i in range(len(timeslots))]\n",
    "        r = len(remaining)\n",
    "        R = range(r)\n",
    "    best_timeslot_partners = [x for i, x in enumerate(best_timeslot_partners) if i == best_timeslot_partners.index(x)] # Unique(best_timeslot_partners)\n",
    "    best_timeslot_partners = [x for x in best_timeslot_partners if len(x) > 1] # Unique(best_timeslot_partners)\n",
    "    #\n",
    "    best_timeslot_partners_tps = [[b.intersection(timeslot_buddies[i]) for b in best_timeslot_partners] for i in range(len(timeslots))] # for each broken connected component chunk, for each timeslot see how many timeslots work for that chunk\n",
    "    btptps = [] # these will be the indices/timeslots for the partners\n",
    "    for x in best_timeslot_partners:\n",
    "        t = []\n",
    "        for y in best_timeslot_partners_tps:\n",
    "            try:\n",
    "                y.index(x)\n",
    "                t.append(best_timeslot_partners_tps.index(y))\n",
    "            except:\n",
    "                pass\n",
    "        btptps.append(t[0])\n",
    "    #\n",
    "    # Starting off groups with preferred partners grouped together\n",
    "    groups = [list(x) for x in best_timeslot_partners]\n",
    "    groups_copy = groups.copy()\n",
    "    GROUP_SIZES = Group_Sizes() # the desired group sizes\n",
    "    for i in range(len(GROUP_SIZES) - len(groups)):\n",
    "        groups.append([]) # preparing to fill in future groups\n",
    "    groups.sort(key=lambda x: -len(x))\n",
    "    groups[0] = groups[0][:GROUP_SIZES[0]]\n",
    "    groups[-1] = groups[-1] + groups[0][GROUP_SIZES[0]:] # organized the groups\n",
    "    btptps = [btptps[groups_copy.index(groups[i])] for i in range(len(btptps))]\n",
    "    group_sizes = [len(x) for x in groups]\n",
    "    #\n",
    "    # Update the df with their group number\n",
    "    group_num = 1\n",
    "    for group in best_timeslot_partners:\n",
    "        if group_num <= Mng:\n",
    "            for student in group:\n",
    "                sid = SID(student, Students(df))\n",
    "                df.iloc[sid, -1] = group_num\n",
    "            group_num += 1\n",
    "        else:\n",
    "            pass\n",
    "    return [best_timeslot_partners, btptps]\n",
    "\n",
    "def Finish_Form_Groups(in_df=DF()[1], in_btp=Start_Form_Groups()[0], in_btptps=Start_Form_Groups()[1], in_combination=set(), in_print=True):\n",
    "    df = in_df\n",
    "    num_students = Num_Students(df)\n",
    "    GROUP_SIZES = Group_Sizes(num_students) # the desired group sizes\n",
    "    best_timeslot_partners, btptps = in_btp, in_btptps\n",
    "    GROUPS = [x.difference(in_combination) for x in best_timeslot_partners] # on most iterations we will remove connections between preferred partners\n",
    "    groups = [list(x) for x in GROUPS]\n",
    "    for i in range(len(GROUP_SIZES) - len(groups)):\n",
    "        groups.append([])\n",
    "    groups.sort(key=lambda x: -len(x))\n",
    "    group_sizes = [len(x) for x in groups]\n",
    "    #\n",
    "    try:\n",
    "        u = set.union(*GROUPS) # all of the (reduced) partners with preferences\n",
    "    except:\n",
    "        u = set()\n",
    "    students = [x for x in df.iloc[:, 0] if x not in u] # the remaining students to be trickled in with the preferred partners\n",
    "    STUDENTS = Students(df) # the actual students list for correct sid\n",
    "    for student in students:\n",
    "        sid = SID(student, STUDENTS)\n",
    "        s_times = [int(x) for x in df.iloc[sid, ind_ts].split(', ')] # the times the student is available\n",
    "        truth = False\n",
    "        #\n",
    "        for t in s_times:\n",
    "            try:\n",
    "                ind_b = btptps.index(t) # check if the student's timeslot matches the optimal timeslot for the groups (careful if btptps has repeats)\n",
    "                group_size_check = group_sizes[ind_b] == GROUP_SIZES[ind_b]\n",
    "                gsc_it = 0\n",
    "                while gsc_it < 100 and group_size_check:\n",
    "                    gsc_it += 1\n",
    "                    btptps[ind_b] = -gsc_it # a number which is not an actual timeslot\n",
    "                    try:\n",
    "                        ind_b = btptps.index(t)\n",
    "                        group_size_check = group_sizes[ind_b] == GROUP_SIZES[ind_b]\n",
    "                    except:\n",
    "                        break\n",
    "                if truth == False and group_sizes[ind_b] < GROUP_SIZES[ind_b]:\n",
    "                    groups[ind_b].append(student)\n",
    "                    group_sizes[ind_b] = group_sizes[ind_b] + 1\n",
    "                    group_num = ind_b + 1\n",
    "                    df.iloc[sid, -1] = group_num\n",
    "                    truth = True\n",
    "                else:\n",
    "                    pass\n",
    "            except:\n",
    "                pass\n",
    "        #\n",
    "        if truth == False: # if the student didn't fit in, form a new group\n",
    "            group_num = min(len(btptps), len(groups) - 1)\n",
    "            groups[group_num].append(student)\n",
    "            group_sizes[group_num] = group_sizes[group_num] + 1\n",
    "            df.iloc[sid, -1] = group_num + 1\n",
    "            if len(btptps) < len(groups):\n",
    "                btptps.append(s_times[0])\n",
    "            else:\n",
    "                pass\n",
    "    #\n",
    "    if in_print:\n",
    "        for i in range(len(groups)):\n",
    "            print(group_sizes[i], groups[i])\n",
    "        print(sum(group_sizes))\n",
    "        print(GROUP_SIZES)\n",
    "        print()\n",
    "    return [groups, group_sizes]\n",
    "\n",
    "\n",
    "\n",
    "def Form_Groups(in_df=DF()[1], in_random=False, in_combination=set(), in_print=False):\n",
    "    df = in_df\n",
    "    CC, cc, DD, dd = Partners_Graph(df)\n",
    "    best_timeslot_partners, btptps = Start_Form_Groups(df, [cc, dd])\n",
    "    return Finish_Form_Groups(df, best_timeslot_partners, btptps, in_combination=in_combination, in_print=in_print)"
   ]
  },
  {
   "cell_type": "code",
   "execution_count": 14,
   "id": "bb24c94f-e8f0-4786-b391-9e55cdc43ae4",
   "metadata": {},
   "outputs": [],
   "source": [
    "def Abs_Err_Groups(in_df=DF()[1], in_attempts=[]):\n",
    "    df = in_df\n",
    "    num_students = Num_Students(df)\n",
    "    GROUP_SIZES = Group_Sizes(num_students)\n",
    "    num_groups = len(GROUP_SIZES)\n",
    "    attempts = in_attempts\n",
    "    return [sum([abs(x[1][i] - GROUP_SIZES[i]) for i in range(num_groups)]) for x in attempts]\n",
    "\n",
    "def Finalize_Groups(in_df=DF()[1], in_sources=[Partners_Graph()[1], Partners_Graph()[3]]):\n",
    "    df = in_df\n",
    "    num_students = Num_Students(df)\n",
    "    GROUP_SIZES = Group_Sizes(num_students)\n",
    "    fg = Form_Groups(df)\n",
    "    gs = fg[1]\n",
    "    attempts = [fg]\n",
    "    remove = 0\n",
    "    btp = Start_Form_Groups(df, in_sources)[0]\n",
    "    try:\n",
    "        b = list(set.union(*btp))\n",
    "    except:\n",
    "        b = []\n",
    "    max_remove = len(b)\n",
    "    IT = 0\n",
    "    MAX_IT = 1000\n",
    "    print('Trying to remove:', remove)\n",
    "    while gs != GROUP_SIZES and remove < max_remove and IT < MAX_IT:\n",
    "        IT += 1\n",
    "        it = 0\n",
    "        print('Trying random shuffling...')\n",
    "        while gs != GROUP_SIZES and it < 10 and IT < MAX_IT:\n",
    "            IT += 1\n",
    "            it += 1\n",
    "            fg = Form_Groups(df, True, set(), False)\n",
    "            gs = fg[1]\n",
    "            attempts.append(fg)\n",
    "        remove += 1\n",
    "        combinations = list(itr.combinations(b, remove))\n",
    "        num_comb = len(combinations)\n",
    "        it = 0\n",
    "        print('Trying to remove:', remove)\n",
    "        while gs != GROUP_SIZES and it < num_comb and IT < MAX_IT:\n",
    "            comb = combinations[it]\n",
    "            IT += 1\n",
    "            it += 1\n",
    "            fg = Form_Groups(df, False, comb, False)\n",
    "            gs = fg[1]\n",
    "            attempts.append(fg)\n",
    "    remove = 0\n",
    "    while gs != GROUP_SIZES and remove < max_remove:\n",
    "        print('Trying to remove:', b[:remove])\n",
    "        comb = b[:remove]\n",
    "        fg = Form_Groups(df, False, comb, False)\n",
    "        gs = fg[1]\n",
    "        attempts.append(fg)\n",
    "        remove += 1\n",
    "    df = in_df\n",
    "    aeg = Abs_Err_Groups(df, attempts)\n",
    "    return attempts[aeg.index(min(aeg))]"
   ]
  },
  {
   "cell_type": "markdown",
   "id": "046ea9da-a0e8-4542-b531-00c915c7d967",
   "metadata": {},
   "source": [
    "#### Test Group Generator"
   ]
  },
  {
   "cell_type": "code",
   "execution_count": 15,
   "id": "6b88bce7-c7a0-4463-90bd-cfaff46ffa75",
   "metadata": {},
   "outputs": [
    {
     "name": "stdout",
     "output_type": "stream",
     "text": [
      "\n",
      "\n",
      "\n",
      "TESTING:\n",
      "\n",
      "\n",
      "\n",
      "it 0, remove 18, leave 37 students...\n",
      "Trying to remove: 0\n",
      "Trying random shuffling...\n",
      "Trying to remove: 1\n",
      "6 ['Firstmm Lastmm', 'Firstuu Lastuu', 'Firsta Lasta', 'Firstk Lastk', 'Firstpp Lastpp', 'Firste Laste']\n",
      "6 ['Firstu Lastu', 'Firsty Lasty', 'Firstx Lastx', 'Firstn Lastn', 'Firstf Lastf', 'Firstr Lastr']\n",
      "5 ['Firstcc Lastcc', 'Firstbb Lastbb', 'Firstz Lastz', 'Firstdd Lastdd', 'Firstaa Lastaa']\n",
      "5 ['Firstc Lastc', 'Firstl Lastl', 'Firstzz Lastzz', 'Firstabc Lastabc', 'Firstabe Lastabe']\n",
      "5 ['Firstb Lastb', 'Firstm Lastm', 'Firstii Lastii', 'Firstvv Lastvv', 'Firstyy Lastyy']\n",
      "5 ['Firsto Lasto', 'Firstgg Lastgg', 'Firstoo Lastoo', 'Firstqq Lastqq', 'Firstss Lastss']\n",
      "5 ['Firsts Lasts', 'Firstee Lastee', 'Firstkk Lastkk', 'Firstww Lastww', 'Firstxx Lastxx']\n",
      "All 37 students grouped up!\n",
      "\n",
      "it 1, remove 27, leave 28 students...\n",
      "Trying to remove: 0\n",
      "Trying random shuffling...\n",
      "Trying to remove: 1\n",
      "Trying random shuffling...\n",
      "Trying to remove: 2\n",
      "Trying random shuffling...\n",
      "Trying to remove: 3\n",
      "Trying random shuffling...\n",
      "Trying to remove: 4\n",
      "Trying random shuffling...\n",
      "Trying to remove: 5\n",
      "Trying random shuffling...\n",
      "Trying to remove: 6\n",
      "Trying to remove: []\n",
      "Trying to remove: ['Firstuu Lastuu']\n",
      "Trying to remove: ['Firstuu Lastuu', 'Firstp Lastp']\n",
      "Trying to remove: ['Firstuu Lastuu', 'Firstp Lastp', 'Firstc Lastc']\n",
      "Trying to remove: ['Firstuu Lastuu', 'Firstp Lastp', 'Firstc Lastc', 'Firstf Lastf']\n",
      "Trying to remove: ['Firstuu Lastuu', 'Firstp Lastp', 'Firstc Lastc', 'Firstf Lastf', 'Firstv Lastv']\n",
      "6 ['Firstf Lastf', 'Firstuu Lastuu', 'Firstee Lastee', 'Firstkk Lastkk', 'Firstoo Lastoo', 'Firstqq Lastqq']\n",
      "5 ['Firstp Lastp', 'Firstv Lastv', 'Firstzz Lastzz', 'Firstabc Lastabc', 'Firstabe Lastabe']\n",
      "5 ['Firstc Lastc', 'Firstl Lastl', 'Firstg Lastg', 'Firsth Lasth', 'Firstk Lastk']\n",
      "5 ['Firstb Lastb', 'Firstx Lastx', 'Firstii Lastii', 'Firsttt Lasttt', 'Firstvv Lastvv']\n",
      "7 ['Firstd Lastd', 'Firsti Lasti', 'Firstj Lastj', 'Firsto Lasto', 'Firsts Lasts', 'Firstgg Lastgg', 'Firstss Lastss']\n",
      "All 28 students grouped up!\n",
      "\n",
      "it 2, remove 41, leave 14 students...\n",
      "Trying to remove: 0\n",
      "5 ['Firstd Lastd', 'Firstl Lastl', 'Firsti Lasti', 'Firstff Lastff', 'Firstabe Lastabe']\n",
      "5 ['Firstmm Lastmm', 'Firstr Lastr', 'Firstz Lastz', 'Firstww Lastww', 'Firstabc Lastabc']\n",
      "4 ['Firsthh Lasthh', 'Firstii Lastii', 'Firstss Lastss', 'Firstabd Lastabd']\n",
      "All 14 students grouped up!\n",
      "\n",
      "it 3, remove 30, leave 25 students...\n",
      "Trying to remove: 0\n",
      "Trying random shuffling...\n",
      "Trying to remove: 1\n",
      "Trying random shuffling...\n",
      "Trying to remove: 2\n",
      "Trying to remove: []\n",
      "Trying to remove: ['Firsta Lasta']\n",
      "5 ['Firsta Lasta', 'Firstk Lastk', 'Firsth Lasth', 'Firsts Lasts', 'Firstjj Lastjj']\n",
      "5 ['Firstb Lastb', 'Firstt Lastt', 'Firstrr Lastrr', 'Firstww Lastww', 'Firstyy Lastyy']\n",
      "4 ['Firsto Lasto', 'Firstcc Lastcc', 'Firstgg Lastgg', 'Firstqq Lastqq']\n",
      "4 ['Firstp Lastp', 'Firstu Lastu', 'Firstii Lastii', 'Firstabc Lastabc']\n",
      "7 ['Firstdd Lastdd', 'Firstaa Lastaa', 'Firstkk Lastkk', 'Firstll Lastll', 'Firstzz Lastzz', 'Firstabd Lastabd', 'Firstabe Lastabe']\n",
      "All 25 students grouped up!\n",
      "\n",
      "it 4, remove 8, leave 47 students...\n",
      "Trying to remove: 0\n",
      "6 ['Firstn Lastn', 'Firstp Lastp', 'Firstu Lastu', 'Firsty Lasty', 'Firstv Lastv', 'Firstx Lastx']\n",
      "6 ['Firstr Lastr', 'Firstuu Lastuu', 'Firsta Lasta', 'Firstk Lastk', 'Firstpp Lastpp', 'Firste Laste']\n",
      "5 ['Firstcc Lastcc', 'Firstbb Lastbb', 'Firstz Lastz', 'Firstq Lastq', 'Firstgg Lastgg']\n",
      "5 ['Firstd Lastd', 'Firstl Lastl', 'Firsth Lasth', 'Firsti Lasti', 'Firstff Lastff']\n",
      "5 ['Firstb Lastb', 'Firstm Lastm', 'Firstt Lastt', 'Firstrr Lastrr', 'Firstww Lastww']\n",
      "5 ['Firstf Lastf', 'Firsts Lasts', 'Firstee Lastee', 'Firstkk Lastkk', 'Firstll Lastll']\n",
      "5 ['Firstg Lastg', 'Firstii Lastii', 'Firstnn Lastnn', 'Firstoo Lastoo', 'Firstvv Lastvv']\n",
      "5 ['Firstdd Lastdd', 'Firstaa Lastaa', 'Firsthh Lasthh', 'Firstss Lastss', 'Firsttt Lasttt']\n",
      "5 ['Firstqq Lastqq', 'Firstxx Lastxx', 'Firstyy Lastyy', 'Firstabd Lastabd', 'Firstabe Lastabe']\n",
      "All 47 students grouped up!\n",
      "\n",
      "it 5, remove 44, leave 11 students...\n",
      "Trying to remove: 0\n",
      "6 ['Firstpp Lastpp', 'Firstr Lastr', 'Firstc Lastc', 'Firstk Lastk', 'Firstp Lastp', 'Firstdd Lastdd']\n",
      "5 ['Firsts Lasts', 'Firsty Lasty', 'Firstw Lastw', 'Firstii Lastii', 'Firstjj Lastjj']\n",
      "All 11 students grouped up!\n",
      "\n",
      "it 6, remove 8, leave 47 students...\n",
      "Trying to remove: 0\n",
      "Trying random shuffling...\n",
      "Trying to remove: 1\n",
      "6 ['Firstp Lastp', 'Firstu Lastu', 'Firsty Lasty', 'Firstv Lastv', 'Firstx Lastx', 'Firstee Lastee']\n",
      "6 ['Firstuu Lastuu', 'Firstf Lastf', 'Firstk Lastk', 'Firstg Lastg', 'Firsth Lasth', 'Firstn Lastn']\n",
      "5 ['Firstc Lastc', 'Firstl Lastl', 'Firstff Lastff', 'Firstdd Lastdd', 'Firstjj Lastjj']\n",
      "5 ['Firsta Lasta', 'Firstd Lastd', 'Firste Laste', 'Firsti Lasti', 'Firstj Lastj']\n",
      "5 ['Firstb Lastb', 'Firstm Lastm', 'Firstt Lastt', 'Firstnn Lastnn', 'Firstvv Lastvv']\n",
      "5 ['Firsto Lasto', 'Firstgg Lastgg', 'Firstw Lastw', 'Firstpp Lastpp', 'Firstoo Lastoo']\n",
      "5 ['Firsts Lasts', 'Firstrr Lastrr', 'Firstzz Lastzz', 'Firstabc Lastabc', 'Firstabe Lastabe']\n",
      "5 ['Firstaa Lastaa', 'Firsthh Lasthh', 'Firstss Lastss', 'Firsttt Lasttt', 'Firstabd Lastabd']\n",
      "5 ['Firstll Lastll', 'Firstmm Lastmm', 'Firstqq Lastqq', 'Firstxx Lastxx', 'Firstyy Lastyy']\n",
      "All 47 students grouped up!\n",
      "\n",
      "it 7, remove 20, leave 35 students...\n",
      "Trying to remove: 0\n",
      "Trying random shuffling...\n",
      "Trying to remove: 1\n",
      "5 ['Firsty Lasty', 'Firstn Lastn', 'Firstf Lastf', 'Firstg Lastg', 'Firsth Lasth']\n",
      "5 ['Firstc Lastc', 'Firstl Lastl', 'Firstk Lastk', 'Firstp Lastp', 'Firstdd Lastdd']\n",
      "5 ['Firstb Lastb', 'Firstnn Lastnn', 'Firstmm Lastmm', 'Firstrr Lastrr', 'Firstww Lastww']\n",
      "5 ['Firstd Lastd', 'Firsts Lasts', 'Firstaa Lastaa', 'Firstkk Lastkk', 'Firstyy Lastyy']\n",
      "5 ['Firsto Lasto', 'Firstgg Lastgg', 'Firstw Lastw', 'Firstss Lastss', 'Firstvv Lastvv']\n",
      "5 ['Firstee Lastee', 'Firstu Lastu', 'Firstjj Lastjj', 'Firstpp Lastpp', 'Firstoo Lastoo']\n",
      "5 ['Firsthh Lasthh', 'Firsttt Lasttt', 'Firstxx Lastxx', 'Firstzz Lastzz', 'Firstabd Lastabd']\n",
      "All 35 students grouped up!\n",
      "\n",
      "it 8, remove 42, leave 13 students...\n",
      "Trying to remove: 0\n",
      "Trying random shuffling...\n",
      "Trying to remove: 1\n",
      "Trying random shuffling...\n",
      "Trying to remove: 2\n",
      "Trying to remove: []\n",
      "Trying to remove: ['Firstx Lastx']\n",
      "5 ['Firstn Lastn', 'Firstf Lastf', 'Firsth Lasth', 'Firstk Lastk', 'Firstkk Lastkk']\n",
      "3 ['Firstb Lastb', 'Firstx Lastx', 'Firstnn Lastnn']\n",
      "5 ['Firstd Lastd', 'Firstr Lastr', 'Firsts Lasts', 'Firstz Lastz', 'Firstss Lastss']\n",
      "All 13 students grouped up!\n",
      "\n",
      "it 9, remove 44, leave 11 students...\n",
      "Trying to remove: 0\n",
      "5 ['Firstc Lastc', 'Firsth Lasth', 'Firstrr Lastrr', 'Firstvv Lastvv', 'Firstabe Lastabe']\n",
      "6 ['Firsto Lasto', 'Firstm Lastm', 'Firstgg Lastgg', 'Firstee Lastee', 'Firstoo Lastoo', 'Firstxx Lastxx']\n",
      "All 11 students grouped up!\n",
      "\n",
      "\n",
      "\n",
      "Success!\n"
     ]
    }
   ],
   "source": [
    "if want_to_test:\n",
    "    print('\\n'*2)\n",
    "    print('TESTING:')\n",
    "    print('\\n'*2)\n",
    "    failures = []\n",
    "    for i in range(10):\n",
    "        df = DF()[1].copy()\n",
    "        STUDENTS = Students(df)\n",
    "        sids = [SID(x, STUDENTS) for x in STUDENTS]\n",
    "        remove = rand.choice(range(Num_Students()-10))\n",
    "        print('it {}, remove {}, leave {} students...'.format(i, remove, Num_Students() - remove))\n",
    "        for j in range(remove):\n",
    "            r = rand.choice(sids)\n",
    "            sids.remove(r)\n",
    "            df = df.drop(r)\n",
    "        pg = Partners_Graph(in_df=df)\n",
    "        cc, dd = pg[1], pg[3]\n",
    "        FG = Finalize_Groups(in_df=df, in_sources=[cc, dd])\n",
    "        for x in range(len(FG[0])):\n",
    "            print(FG[1][x], FG[0][x])\n",
    "        s = sum(FG[1])\n",
    "        if s == Num_Students() - remove:\n",
    "            print('All {} students grouped up!'.format(s))\n",
    "        else:\n",
    "            failures.append(s)\n",
    "            print('ERROR:  Only {} students grouped up!'.format(s), ' '*4, ' -- '.join(['ERROR']*15))\n",
    "            display(df)\n",
    "        print()\n",
    "    print('\\n')\n",
    "    lf = len(failures)\n",
    "    if lf == 0:\n",
    "        print('Success!')\n",
    "    else:\n",
    "        print('There was(were) {} failure(s).'.format(lf))"
   ]
  },
  {
   "cell_type": "markdown",
   "id": "9d986a8d-8e6c-4ac1-887a-8496c9027c55",
   "metadata": {},
   "source": [
    "######\n",
    "\n",
    "***\n",
    "\n",
    "## OUTPUT:"
   ]
  },
  {
   "cell_type": "code",
   "execution_count": 16,
   "id": "6322573a-551a-4cc8-84f6-665d314cb3a5",
   "metadata": {},
   "outputs": [
    {
     "name": "stdout",
     "output_type": "stream",
     "text": [
      "Trying to remove: 0\n",
      "\n",
      "\n",
      "\n",
      "***********************************************************************************************************************************\n",
      "\n",
      "\n",
      "\n",
      "You have 55 students; we formed 9 groups of sizes [7, 6, 6, 6, 6, 6, 6, 6, 6] as follows:\n",
      "\n",
      "Group 1:  7  ['Firstmm Lastmm', 'Firstr Lastr', 'Firstuu Lastuu', 'Firsta Lasta', 'Firstk Lastk', 'Firstpp Lastpp', 'Firste Laste']\n",
      "Group 2:  6  ['Firstn Lastn', 'Firstp Lastp', 'Firstu Lastu', 'Firsty Lasty', 'Firstv Lastv', 'Firstx Lastx']\n",
      "Group 3:  6  ['Firstcc Lastcc', 'Firstbb Lastbb', 'Firstz Lastz', 'Firstq Lastq', 'Firstgg Lastgg', 'Firstdd Lastdd']\n",
      "Group 4:  6  ['Firstc Lastc', 'Firstl Lastl', 'Firstf Lastf', 'Firstg Lastg', 'Firsth Lasth', 'Firstff Lastff']\n",
      "Group 5:  6  ['Firstb Lastb', 'Firstm Lastm', 'Firstw Lastw', 'Firstnn Lastnn', 'Firstrr Lastrr', 'Firstvv Lastvv']\n",
      "Group 6:  6  ['Firstd Lastd', 'Firsts Lasts', 'Firstjj Lastjj', 'Firstkk Lastkk', 'Firstqq Lastqq', 'Firstabc Lastabc']\n",
      "Group 7:  6  ['Firsti Lasti', 'Firsto Lasto', 'Firstee Lastee', 'Firstaa Lastaa', 'Firstt Lastt', 'Firstll Lastll']\n",
      "Group 8:  6  ['Firstj Lastj', 'Firstww Lastww', 'Firstyy Lastyy', 'Firstzz Lastzz', 'Firstabd Lastabd', 'Firstabe Lastabe']\n",
      "Group 9:  6  ['Firsthh Lasthh', 'Firstii Lastii', 'Firstoo Lastoo', 'Firstss Lastss', 'Firsttt Lasttt', 'Firstxx Lastxx']\n",
      "\n",
      "\n",
      "\n"
     ]
    }
   ],
   "source": [
    "FG = Finalize_Groups()\n",
    "\n",
    "print('\\n'*2)\n",
    "print('*'*int(len(str(FG[0][0])) + 13))\n",
    "print('\\n'*2)\n",
    "\n",
    "print('You have {} students; we formed {} groups of sizes {} as follows:'.format(Num_Students(), Num_Groups(), FG[1]))\n",
    "print()\n",
    "\n",
    "\n",
    "\n",
    "for i, g in enumerate(FG[0]):\n",
    "    print('Group {}:'.format(i+1), len(g), g, sep=' '*2)\n",
    "\n",
    "print('\\n'*2)"
   ]
  }
 ],
 "metadata": {
  "kernelspec": {
   "display_name": "Python 3 (ipykernel)",
   "language": "python",
   "name": "python3"
  },
  "language_info": {
   "codemirror_mode": {
    "name": "ipython",
    "version": 3
   },
   "file_extension": ".py",
   "mimetype": "text/x-python",
   "name": "python",
   "nbconvert_exporter": "python",
   "pygments_lexer": "ipython3",
   "version": "3.10.1"
  }
 },
 "nbformat": 4,
 "nbformat_minor": 5
}
